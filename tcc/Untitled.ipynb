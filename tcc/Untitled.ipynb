{
 "cells": [
  {
   "cell_type": "code",
   "execution_count": 21,
   "metadata": {},
   "outputs": [],
   "source": [
    "import pandas as pd\n",
    "from imdb import IMDb\n",
    "ia = IMDb()"
   ]
  },
  {
   "cell_type": "code",
   "execution_count": 27,
   "metadata": {},
   "outputs": [
    {
     "data": {
      "text/plain": [
       "(8874334, 6)"
      ]
     },
     "execution_count": 27,
     "metadata": {},
     "output_type": "execute_result"
    }
   ],
   "source": [
    "names = pd.read_csv( 'data/name.basics.csv', sep='\t', decimal='.')\n",
    "names.shape"
   ]
  },
  {
   "cell_type": "code",
   "execution_count": 44,
   "metadata": {},
   "outputs": [],
   "source": [
    "names_filter = names[(names['knownForTitles']!='\\\\N')].copy()\n",
    "\n",
    "names_filter['Actor'] = names_filter['primaryProfession'].apply(lambda x: 'actor' in str(x))\n",
    "names_filter['Writer'] = names_filter['primaryProfession'].apply(lambda x: 'writer' in str(x))\n",
    "names_filter['Director'] = names_filter['primaryProfession'].apply(lambda x: 'director' in str(x))\n",
    "\n",
    "names_filter['onelse'] = names_filter[['Actor', 'Writer', 'Director']].sum(1)\n",
    "names_filter = names_filter[names_filter['onelse'] > 0].copy()"
   ]
  },
  {
   "cell_type": "code",
   "execution_count": 43,
   "metadata": {},
   "outputs": [
    {
     "data": {
      "text/html": [
       "<div>\n",
       "<style scoped>\n",
       "    .dataframe tbody tr th:only-of-type {\n",
       "        vertical-align: middle;\n",
       "    }\n",
       "\n",
       "    .dataframe tbody tr th {\n",
       "        vertical-align: top;\n",
       "    }\n",
       "\n",
       "    .dataframe thead th {\n",
       "        text-align: right;\n",
       "    }\n",
       "</style>\n",
       "<table border=\"1\" class=\"dataframe\">\n",
       "  <thead>\n",
       "    <tr style=\"text-align: right;\">\n",
       "      <th></th>\n",
       "      <th>nconst</th>\n",
       "      <th>primaryName</th>\n",
       "      <th>birthYear</th>\n",
       "      <th>deathYear</th>\n",
       "      <th>primaryProfession</th>\n",
       "      <th>knownForTitles</th>\n",
       "      <th>qtde</th>\n",
       "    </tr>\n",
       "  </thead>\n",
       "  <tbody>\n",
       "    <tr>\n",
       "      <th>0</th>\n",
       "      <td>nm0000001</td>\n",
       "      <td>Fred Astaire</td>\n",
       "      <td>1899</td>\n",
       "      <td>1987</td>\n",
       "      <td>soundtrack,actor,miscellaneous</td>\n",
       "      <td>tt0050419,tt0072308,tt0043044,tt0053137</td>\n",
       "      <td>True</td>\n",
       "    </tr>\n",
       "    <tr>\n",
       "      <th>1</th>\n",
       "      <td>nm0000002</td>\n",
       "      <td>Lauren Bacall</td>\n",
       "      <td>1924</td>\n",
       "      <td>2014</td>\n",
       "      <td>actress,soundtrack</td>\n",
       "      <td>tt0071877,tt0117057,tt0037382,tt0038355</td>\n",
       "      <td>False</td>\n",
       "    </tr>\n",
       "    <tr>\n",
       "      <th>2</th>\n",
       "      <td>nm0000003</td>\n",
       "      <td>Brigitte Bardot</td>\n",
       "      <td>1934</td>\n",
       "      <td>\\N</td>\n",
       "      <td>actress,soundtrack,producer</td>\n",
       "      <td>tt0049189,tt0059956,tt0054452,tt0057345</td>\n",
       "      <td>False</td>\n",
       "    </tr>\n",
       "    <tr>\n",
       "      <th>3</th>\n",
       "      <td>nm0000004</td>\n",
       "      <td>John Belushi</td>\n",
       "      <td>1949</td>\n",
       "      <td>1982</td>\n",
       "      <td>actor,writer,soundtrack</td>\n",
       "      <td>tt0077975,tt0072562,tt0080455,tt0078723</td>\n",
       "      <td>True</td>\n",
       "    </tr>\n",
       "    <tr>\n",
       "      <th>4</th>\n",
       "      <td>nm0000005</td>\n",
       "      <td>Ingmar Bergman</td>\n",
       "      <td>1918</td>\n",
       "      <td>2007</td>\n",
       "      <td>writer,director,actor</td>\n",
       "      <td>tt0050986,tt0050976,tt0083922,tt0060827</td>\n",
       "      <td>True</td>\n",
       "    </tr>\n",
       "  </tbody>\n",
       "</table>\n",
       "</div>"
      ],
      "text/plain": [
       "      nconst      primaryName birthYear deathYear  \\\n",
       "0  nm0000001     Fred Astaire      1899      1987   \n",
       "1  nm0000002    Lauren Bacall      1924      2014   \n",
       "2  nm0000003  Brigitte Bardot      1934        \\N   \n",
       "3  nm0000004     John Belushi      1949      1982   \n",
       "4  nm0000005   Ingmar Bergman      1918      2007   \n",
       "\n",
       "                primaryProfession                           knownForTitles  \\\n",
       "0  soundtrack,actor,miscellaneous  tt0050419,tt0072308,tt0043044,tt0053137   \n",
       "1              actress,soundtrack  tt0071877,tt0117057,tt0037382,tt0038355   \n",
       "2     actress,soundtrack,producer  tt0049189,tt0059956,tt0054452,tt0057345   \n",
       "3         actor,writer,soundtrack  tt0077975,tt0072562,tt0080455,tt0078723   \n",
       "4           writer,director,actor  tt0050986,tt0050976,tt0083922,tt0060827   \n",
       "\n",
       "    qtde  \n",
       "0   True  \n",
       "1  False  \n",
       "2  False  \n",
       "3   True  \n",
       "4   True  "
      ]
     },
     "execution_count": 43,
     "metadata": {},
     "output_type": "execute_result"
    }
   ],
   "source": [
    "names_filter.head()"
   ]
  },
  {
   "cell_type": "code",
   "execution_count": 52,
   "metadata": {},
   "outputs": [],
   "source": [
    "matrix = ia.get_movie( '0133093' )"
   ]
  },
  {
   "cell_type": "code",
   "execution_count": 54,
   "metadata": {},
   "outputs": [
    {
     "ename": "KeyError",
     "evalue": "'cats'",
     "output_type": "error",
     "traceback": [
      "\u001b[0;31m---------------------------------------------------------------------------\u001b[0m",
      "\u001b[0;31mKeyError\u001b[0m                                  Traceback (most recent call last)",
      "\u001b[0;32m<ipython-input-54-81363f1669cc>\u001b[0m in \u001b[0;36m<module>\u001b[0;34m()\u001b[0m\n\u001b[0;32m----> 1\u001b[0;31m \u001b[0mmatrix\u001b[0m\u001b[0;34m[\u001b[0m\u001b[0;34m'cats'\u001b[0m\u001b[0;34m]\u001b[0m\u001b[0;34m\u001b[0m\u001b[0m\n\u001b[0m",
      "\u001b[0;32m~/Downloads/Programas/anaconda3/envs/teo-env/lib/python3.6/site-packages/imdb/utils.py\u001b[0m in \u001b[0;36m__getitem__\u001b[0;34m(self, key)\u001b[0m\n\u001b[1;32m   1493\u001b[0m         \u001b[0;31m# Handle key aliases.\u001b[0m\u001b[0;34m\u001b[0m\u001b[0;34m\u001b[0m\u001b[0m\n\u001b[1;32m   1494\u001b[0m         \u001b[0mkey\u001b[0m \u001b[0;34m=\u001b[0m \u001b[0mself\u001b[0m\u001b[0;34m.\u001b[0m\u001b[0mkeys_alias\u001b[0m\u001b[0;34m.\u001b[0m\u001b[0mget\u001b[0m\u001b[0;34m(\u001b[0m\u001b[0mkey\u001b[0m\u001b[0;34m,\u001b[0m \u001b[0mkey\u001b[0m\u001b[0;34m)\u001b[0m\u001b[0;34m\u001b[0m\u001b[0m\n\u001b[0;32m-> 1495\u001b[0;31m         \u001b[0mrawData\u001b[0m \u001b[0;34m=\u001b[0m \u001b[0mself\u001b[0m\u001b[0;34m.\u001b[0m\u001b[0mdata\u001b[0m\u001b[0;34m[\u001b[0m\u001b[0mkey\u001b[0m\u001b[0;34m]\u001b[0m\u001b[0;34m\u001b[0m\u001b[0m\n\u001b[0m\u001b[1;32m   1496\u001b[0m         \u001b[0;32mif\u001b[0m \u001b[0mkey\u001b[0m \u001b[0;32min\u001b[0m \u001b[0mself\u001b[0m\u001b[0;34m.\u001b[0m\u001b[0mkeys_tomodify\u001b[0m \u001b[0;32mand\u001b[0m\u001b[0;31m \u001b[0m\u001b[0;31m\\\u001b[0m\u001b[0;34m\u001b[0m\u001b[0m\n\u001b[1;32m   1497\u001b[0m                 \u001b[0mself\u001b[0m\u001b[0;34m.\u001b[0m\u001b[0mmodFunct\u001b[0m \u001b[0;32mnot\u001b[0m \u001b[0;32min\u001b[0m \u001b[0;34m(\u001b[0m\u001b[0;32mNone\u001b[0m\u001b[0;34m,\u001b[0m \u001b[0mmodNull\u001b[0m\u001b[0;34m)\u001b[0m\u001b[0;34m:\u001b[0m\u001b[0;34m\u001b[0m\u001b[0m\n",
      "\u001b[0;31mKeyError\u001b[0m: 'cats'"
     ]
    }
   ],
   "source": [
    "matrix['cats']"
   ]
  },
  {
   "cell_type": "code",
   "execution_count": 4,
   "metadata": {},
   "outputs": [],
   "source": [
    "films = ia.get_top250_movies()"
   ]
  },
  {
   "cell_type": "code",
   "execution_count": 14,
   "metadata": {},
   "outputs": [],
   "source": [
    "person = ia.get_person('0000206')"
   ]
  },
  {
   "cell_type": "code",
   "execution_count": 17,
   "metadata": {},
   "outputs": [
    {
     "data": {
      "text/plain": [
       "dict_keys(['birth info', 'headshot', 'akas', 'filmography', 'in development', 'name', 'nick names', 'birth name', 'height', 'mini biography', 'trade mark', 'trivia', 'quotes', 'salary history', 'birth date', 'birth notes', 'canonical name', 'long imdb name', 'long imdb canonical name', 'full-size headshot'])"
      ]
     },
     "execution_count": 17,
     "metadata": {},
     "output_type": "execute_result"
    }
   ],
   "source": [
    "dict(person).keys()"
   ]
  },
  {
   "cell_type": "code",
   "execution_count": 20,
   "metadata": {},
   "outputs": [
    {
     "data": {
      "text/plain": [
       "{'(2009)': <Movie id:1049413[http] title:_(2009 (2009)_>,\n",
       " 'Youngblood (1986)': <Movie id:0092272[http] title:_Youngblood (1986)_>,\n",
       " \"River's Edge (1986)\": <Movie id:0091860[http] title:_River's Edge (1986)_>,\n",
       " 'Dangerous Liaisons (1988)': <Movie id:0094947[http] title:_Dangerous Liaisons (1988)_>,\n",
       " \"Bill & Ted's Excellent Adventure (1989)\": <Movie id:0096928[http] title:_Bill & Ted's Excellent Adventure (1989)_>,\n",
       " 'Parenthood (1989)': <Movie id:0098067[http] title:_Parenthood (1989)_>,\n",
       " 'I Love You to Death (1990)': <Movie id:0099819[http] title:_I Love You to Death (1990)_>,\n",
       " 'My Own Private Idaho (1991)': <Movie id:0102494[http] title:_My Own Private Idaho (1991)_>,\n",
       " \"Bram Stoker's Dracula (1992)\": <Movie id:0103874[http] title:_Bram Stoker's Dracula (1992)_>,\n",
       " 'Much Ado About Nothing (1993)': <Movie id:0107616[http] title:_Much Ado About Nothing (1993)_>,\n",
       " 'Speed (1994)': <Movie id:0111257[http] title:_Speed (1994)_>,\n",
       " 'Feeling Minnesota (1996)': <Movie id:0116289[http] title:_Feeling Minnesota (1996)_>,\n",
       " 'The Last Time I Committed Suicide (1997)': <Movie id:0119502[http] title:_The Last Time I Committed Suicide (1997)_>,\n",
       " 'A Walk in the Clouds (1995)': <Movie id:0114887[http] title:_A Walk in the Clouds (1995)_>,\n",
       " \"The Devil's Advocate (1997)\": <Movie id:0118971[http] title:_The Devil's Advocate (1997)_>,\n",
       " 'Johnny Mnemonic, o Cyborg do Futuro (1995)': <Movie id:0113481[http] title:_Johnny Mnemonic, o Cyborg do Futuro (1995)_>,\n",
       " 'Chain Reaction (1996)': <Movie id:0115857[http] title:_Chain Reaction (1996)_>,\n",
       " 'The Matrix (1999)': <Movie id:0133093[http] title:_The Matrix (1999)_>,\n",
       " 'The Replacements (2000)': <Movie id:0191397[http] title:_The Replacements (2000)_>,\n",
       " 'The Watcher (2000)': <Movie id:0204626[http] title:_The Watcher (2000)_>,\n",
       " 'The Gift (2000)': <Movie id:0219699[http] title:_The Gift (2000)_>,\n",
       " 'Sweet November (2001)': <Movie id:0230838[http] title:_Sweet November (2001)_>,\n",
       " 'Hardball (2001)': <Movie id:0180734[http] title:_Hardball (2001)_>,\n",
       " 'The Matrix Reloaded (2003)': <Movie id:0234215[http] title:_The Matrix Reloaded (2003)_>,\n",
       " 'The Matrix Revolutions (2003)': <Movie id:0242653[http] title:_The Matrix Revolutions (2003)_>,\n",
       " \"Something's Gotta Give (2003)\": <Movie id:0337741[http] title:_Something's Gotta Give (2003)_>,\n",
       " 'The Lake House (2006)': <Movie id:0410297[http] title:_The Lake House (2006)_>,\n",
       " 'Street Kings (2008)': <Movie id:0421073[http] title:_Street Kings (2008)_>,\n",
       " 'Constantine (2005)': <Movie id:0360486[http] title:_Constantine (2005)_>,\n",
       " 'A Scanner Darkly (2006)': <Movie id:0405296[http] title:_A Scanner Darkly (2006)_>,\n",
       " 'The Day the Earth Stood Still (2008)': <Movie id:0970416[http] title:_The Day the Earth Stood Still (2008)_>,\n",
       " 'Ellie Parker (2005)': <Movie id:0436262[http] title:_Ellie Parker (2005)_>,\n",
       " 'Thumbsucker (2005)': <Movie id:0318761[http] title:_Thumbsucker (2005)_>,\n",
       " 'The Private Lives of Pippa Lee (2009)': <Movie id:1134629[http] title:_The Private Lives of Pippa Lee (2009)_>,\n",
       " \"Henry's Crime (2010)\": <Movie id:1220888[http] title:_Henry's Crime (2010)_>,\n",
       " '47 Ronin (2013)': <Movie id:1335975[http] title:_47 Ronin (2013)_>,\n",
       " 'Side by Side (2012)': <Movie id:2014338[http] title:_Side by Side (2012)_>,\n",
       " 'Man of Tai Chi (2013)': <Movie id:2016940[http] title:_Man of Tai Chi (2013)_>,\n",
       " 'John Wick (2014)': <Movie id:2911666[http] title:_John Wick (2014)_>,\n",
       " 'John Wick: Chapter 2 (2017)': <Movie id:4425200[http] title:_John Wick: Chapter 2 (2017)_>,\n",
       " 'The Prince of Pennsylvania (1988)': <Movie id:0095903[http] title:_The Prince of Pennsylvania (1988)_>,\n",
       " 'Caçadores de Emoção (1991)': <Movie id:0102685[http] title:_Caçadores de Emoção (1991)_>,\n",
       " 'Speed 2: Cruise Control (1997)': <Movie id:0120179[http] title:_Speed 2: Cruise Control (1997)_>,\n",
       " 'Platoon (1986)': <Movie id:0091763[http] title:_Platoon (1986)_>,\n",
       " 'Heat (1995)': <Movie id:0113277[http] title:_Heat (1995)_>,\n",
       " 'Batman Forever (1995)': <Movie id:0112462[http] title:_Batman Forever (1995)_>,\n",
       " 'The Simpsons (1989)': <Movie id:0096697[http] title:_The Simpsons (1989)_>,\n",
       " 'Speed Racer (2008)': <Movie id:0811080[http] title:_Speed Racer (2008)_>,\n",
       " 'Batman & Robin (1997)': <Movie id:0118688[http] title:_Batman & Robin (1997)_>,\n",
       " 'Even Cowgirls Get the Blues (1993)': <Movie id:0106834[http] title:_Even Cowgirls Get the Blues (1993)_>,\n",
       " 'The Doors (1991)': <Movie id:0101761[http] title:_The Doors (1991)_>,\n",
       " 'The Two Ronnies (1971)': <Movie id:0066721[http] title:_The Two Ronnies (1971)_>,\n",
       " 'Johnny Mnemonic (1995)': <Movie id:0113481[http] title:_Johnny Mnemonic (1995)_>}"
      ]
     },
     "execution_count": 20,
     "metadata": {},
     "output_type": "execute_result"
    }
   ],
   "source": [
    "person.titlesRefs"
   ]
  },
  {
   "cell_type": "code",
   "execution_count": 10,
   "metadata": {},
   "outputs": [
    {
     "data": {
      "text/plain": [
       "{'rating': 9.2,\n",
       " 'title': 'The Shawshank Redemption',\n",
       " 'year': 1994,\n",
       " 'votes': 1999416,\n",
       " 'top 250 rank': 1,\n",
       " 'kind': 'movie',\n",
       " 'canonical title': 'Shawshank Redemption, The',\n",
       " 'long imdb title': 'The Shawshank Redemption (1994)',\n",
       " 'long imdb canonical title': 'Shawshank Redemption, The (1994)',\n",
       " 'smart canonical title': 'Shawshank Redemption, The',\n",
       " 'smart long imdb canonical title': 'Shawshank Redemption, The (1994)'}"
      ]
     },
     "execution_count": 10,
     "metadata": {},
     "output_type": "execute_result"
    }
   ],
   "source": [
    "dict(films[0])"
   ]
  }
 ],
 "metadata": {
  "kernelspec": {
   "display_name": "Python [conda env:teo-env]",
   "language": "python",
   "name": "conda-env-teo-env-py"
  },
  "language_info": {
   "codemirror_mode": {
    "name": "ipython",
    "version": 3
   },
   "file_extension": ".py",
   "mimetype": "text/x-python",
   "name": "python",
   "nbconvert_exporter": "python",
   "pygments_lexer": "ipython3",
   "version": "3.6.5"
  }
 },
 "nbformat": 4,
 "nbformat_minor": 2
}
