{
 "cells": [
  {
   "cell_type": "code",
   "execution_count": 44,
   "metadata": {},
   "outputs": [
    {
     "name": "stdout",
     "output_type": "stream",
     "text": [
      "4974199.75110031\n",
      "4824946.656322918\n",
      "4551680.156815268\n",
      "4195077.395779175\n",
      "3798068.0920189884\n",
      "2662726.418375087\n",
      "3396071.579889647\n",
      "3013155.485972477\n"
     ]
    }
   ],
   "source": [
    "import math\n",
    "import multiprocessing as mp\n",
    "import numpy as np\n",
    "\n",
    "manager = mp.Manager()\n",
    "return_dict = manager.dict()\n",
    "\n",
    "def my_f(x):\n",
    "\treturn 4.0 / (1 + x ** 2)\n",
    "\n",
    "def multi_f(start, end, n, id_process, q):\n",
    "    soma = 0\n",
    "    j = start\n",
    "    m = float(end - start) / n\n",
    "\n",
    "    for i in range( n ):\n",
    "        j += m\n",
    "        soma += my_f(j)\n",
    "\n",
    "    q.put(soma)\n",
    "    print(\"Total soma processo\",id_process,\": \", soma)\n",
    "\n",
    "n, m = 10000000, 8\n",
    "\n",
    "start, end = 0, 1\n",
    "bounds = np.linspace(start, end, m+1)\n",
    "\n",
    "p, q = [] , mp.Queue()\n",
    "\n",
    "for i in range(m):\n",
    "    p.append( mp.Process(target = multi_f, args=(bounds[i], bounds[i+1], int(n / m),id_process,q, ) ) )\n",
    "    p[-1].start()\n",
    "\n",
    "for process in p:\n",
    "    process.join()"
   ]
  },
  {
   "cell_type": "code",
   "execution_count": 45,
   "metadata": {},
   "outputs": [
    {
     "name": "stdout",
     "output_type": "stream",
     "text": [
      "3.1415925536273868\n"
     ]
    }
   ],
   "source": [
    "soma = 0\n",
    "while not q.empty():\n",
    "    soma += q.get(block=False)\n",
    "    \n",
    "print(soma/n)"
   ]
  }
 ],
 "metadata": {
  "kernelspec": {
   "display_name": "Python 3",
   "language": "python",
   "name": "python3"
  },
  "language_info": {
   "codemirror_mode": {
    "name": "ipython",
    "version": 3
   },
   "file_extension": ".py",
   "mimetype": "text/x-python",
   "name": "python",
   "nbconvert_exporter": "python",
   "pygments_lexer": "ipython3",
   "version": "3.6.5"
  }
 },
 "nbformat": 4,
 "nbformat_minor": 2
}
