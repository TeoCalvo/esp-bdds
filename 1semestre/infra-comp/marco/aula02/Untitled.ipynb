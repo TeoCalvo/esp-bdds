{
 "cells": [
  {
   "cell_type": "code",
   "execution_count": 50,
   "metadata": {},
   "outputs": [
    {
     "ename": "AttributeError",
     "evalue": "module 'sys' has no attribute 'args'",
     "output_type": "error",
     "traceback": [
      "\u001b[0;31m---------------------------------------------------------------------------\u001b[0m",
      "\u001b[0;31mAttributeError\u001b[0m                            Traceback (most recent call last)",
      "\u001b[0;32m<ipython-input-50-4b8d3b787caa>\u001b[0m in \u001b[0;36m<module>\u001b[0;34m()\u001b[0m\n\u001b[1;32m     19\u001b[0m     \u001b[0mprint\u001b[0m\u001b[0;34m(\u001b[0m\u001b[0;34m\"Total soma processo\"\u001b[0m\u001b[0;34m,\u001b[0m\u001b[0mid_process\u001b[0m\u001b[0;34m,\u001b[0m\u001b[0;34m\": \"\u001b[0m\u001b[0;34m,\u001b[0m \u001b[0msoma\u001b[0m\u001b[0;34m)\u001b[0m\u001b[0;34m\u001b[0m\u001b[0m\n\u001b[1;32m     20\u001b[0m \u001b[0;34m\u001b[0m\u001b[0m\n\u001b[0;32m---> 21\u001b[0;31m \u001b[0mn\u001b[0m\u001b[0;34m,\u001b[0m \u001b[0mm\u001b[0m \u001b[0;34m=\u001b[0m \u001b[0msys\u001b[0m\u001b[0;34m.\u001b[0m\u001b[0margs\u001b[0m\u001b[0;34m\u001b[0m\u001b[0m\n\u001b[0m\u001b[1;32m     22\u001b[0m \u001b[0;34m\u001b[0m\u001b[0m\n\u001b[1;32m     23\u001b[0m \u001b[0mstart\u001b[0m\u001b[0;34m,\u001b[0m \u001b[0mend\u001b[0m \u001b[0;34m=\u001b[0m \u001b[0;36m0\u001b[0m\u001b[0;34m,\u001b[0m \u001b[0;36m1\u001b[0m\u001b[0;34m\u001b[0m\u001b[0m\n",
      "\u001b[0;31mAttributeError\u001b[0m: module 'sys' has no attribute 'args'"
     ]
    }
   ],
   "source": [
    "import math\n",
    "import multiprocessing as mp\n",
    "import numpy as np\n",
    "import sys\n",
    "\n",
    "def my_f(x):\n",
    "    return 4.0 / (1 + x ** 2)\n",
    "\n",
    "def multi_f(start, end, n, id_process, q):\n",
    "    soma = 0\n",
    "    j = start\n",
    "    m = float(end - start) / n\n",
    "\n",
    "    for i in range( n ):\n",
    "        j += m\n",
    "        soma += my_f(j)\n",
    "\n",
    "    q.put(soma)\n",
    "    print(\"Total soma processo\",id_process,\": \", soma)\n",
    "\n",
    "n, m = sys.args\n",
    "\n",
    "start, end = 0, 1\n",
    "bounds = np.linspace(start, end, m+1)\n",
    "\n",
    "p, q = [] , mp.Queue()\n",
    "\n",
    "for i in range(m):\n",
    "    p.append( mp.Process(target = multi_f, args=(bounds[i], bounds[i+1], int(n / m),i,q, ) ) )\n",
    "    p[-1].start()\n",
    "\n",
    "for process in p:\n",
    "    process.join()"
   ]
  },
  {
   "cell_type": "code",
   "execution_count": 48,
   "metadata": {},
   "outputs": [
    {
     "name": "stdout",
     "output_type": "stream",
     "text": [
      "Valor do pi aproximado final: 3.141592553627387\n"
     ]
    }
   ],
   "source": [
    "soma = 0\n",
    "while not q.empty():\n",
    "    soma += q.get(block=False)\n",
    "    \n",
    "print(\"Valor do pi aproximado final:\", soma/n)"
   ]
  }
 ],
 "metadata": {
  "kernelspec": {
   "display_name": "Python 3",
   "language": "python",
   "name": "python3"
  },
  "language_info": {
   "codemirror_mode": {
    "name": "ipython",
    "version": 3
   },
   "file_extension": ".py",
   "mimetype": "text/x-python",
   "name": "python",
   "nbconvert_exporter": "python",
   "pygments_lexer": "ipython3",
   "version": "3.6.5"
  }
 },
 "nbformat": 4,
 "nbformat_minor": 2
}
