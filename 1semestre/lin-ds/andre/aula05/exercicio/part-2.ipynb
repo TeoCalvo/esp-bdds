{
 "cells": [
  {
   "cell_type": "code",
   "execution_count": 165,
   "metadata": {},
   "outputs": [],
   "source": [
    "import pandas as pd\n",
    "import numpy as np\n",
    "import csv\n",
    "import sys"
   ]
  },
  {
   "cell_type": "code",
   "execution_count": 178,
   "metadata": {},
   "outputs": [],
   "source": [
    "sys.argv = [\"winequality-red.csv\", \"winequality-white.csv\", \"my_result.txt\"]"
   ]
  },
  {
   "cell_type": "code",
   "execution_count": 179,
   "metadata": {},
   "outputs": [],
   "source": [
    "if len( sys.argv ) >=3 :\n",
    "    arq1, arq2, arq3, *_ = sys.argv\n",
    "else:\n",
    "    print(\"Entre com os nomes dos arquivos corretos.\")\n",
    "    \n",
    "# Importa os dados dos arquivos txt\n",
    "d1 = np.genfromtxt(arq1, delimiter=\";\", skip_header=1)\n",
    "d2 = np.genfromtxt(arq2, delimiter=\";\", skip_header=1)\n",
    "\n",
    "# Concatena as linas dos dois arquivos em uma única matriz\n",
    "d3 = np.append(d1,d2, axis=0)\n",
    "\n",
    "# Obtem o header de um dos arquivos\n",
    "header = open(arq1, 'r').readline()\n",
    "header = \",\".join( header.strip(\"\\n\").split(\";\") )\n",
    "\n",
    "# Define uma lista que contem o tipo de vinho (1 para red e 2 para white)\n",
    "type_wine = [1 for i in range(d1.shape[0])] + [2 for i in range(d2.shape[0])] \n",
    "type_wine = np.array( type_wine).reshape( (d3.shape[0],1) )\n",
    "\n",
    "# Adiciona uma coluna referente ao tipo de vinho\n",
    "d4 = np.append( d3, type_wine, axis=1 )\n",
    "\n",
    "# Adiciona 'tipo' no header\n",
    "header += \",tipo\"\n",
    "header_list = header.split(\",\")"
   ]
  },
  {
   "cell_type": "code",
   "execution_count": 180,
   "metadata": {},
   "outputs": [
    {
     "name": "stdout",
     "output_type": "stream",
     "text": [
      "Header:  \"fixed acidity\",\"volatile acidity\",\"citric acid\",\"residual sugar\",\"chlorides\",\"free sulfur dioxide\",\"total sulfur dioxide\",\"density\",\"pH\",\"sulphates\",\"alcohol\",\"quality\",tipo\n",
      "\n",
      "Numero de linhas totais, somando cada matriz:  6497\n",
      "Número de linhas na nova matriz:  6497\n"
     ]
    }
   ],
   "source": [
    "print(\"Header: \", header)\n",
    "print( \"\\nNumero de linhas totais, somando cada matriz: \" , d1.shape[0] + d2.shape[0] )\n",
    "print( \"Número de linhas na nova matriz: \" , d4.shape[0] )"
   ]
  },
  {
   "cell_type": "code",
   "execution_count": 181,
   "metadata": {},
   "outputs": [
    {
     "data": {
      "text/plain": [
       "array([[ True,  True,  True, ...,  True,  True,  True],\n",
       "       [ True,  True,  True, ...,  True,  True,  True],\n",
       "       [ True,  True,  True, ...,  True,  True,  True],\n",
       "       ...,\n",
       "       [ True,  True,  True, ...,  True,  True,  True],\n",
       "       [ True,  True,  True, ...,  True,  True,  True],\n",
       "       [ True,  True,  True, ...,  True,  True,  True]])"
      ]
     },
     "execution_count": 181,
     "metadata": {},
     "output_type": "execute_result"
    }
   ],
   "source": [
    "# Verifica se os dados importados são os mesmos que foram salvados\n",
    "np.savetxt(arq3, d4, header=header , delimiter=\",\")\n",
    "d5 = np.genfromtxt(arq3, delimiter=\",\", skip_header=True)\n",
    "d4 == d5"
   ]
  },
  {
   "cell_type": "code",
   "execution_count": 182,
   "metadata": {},
   "outputs": [],
   "source": [
    "# Busca o indice em que se encontra a qualidade\n",
    "quality_index = header_list.index('\"quality\"')\n",
    "\n",
    "# Busca o indice em que se encontra o tipo (rótulo)\n",
    "tipo = header_list.index(\"tipo\")"
   ]
  },
  {
   "cell_type": "code",
   "execution_count": 183,
   "metadata": {},
   "outputs": [
    {
     "name": "stdout",
     "output_type": "stream",
     "text": [
      "Qualidade média geral: 5.818377712790519\n",
      "Qualidade média red: 5.6360225140712945\n",
      "Qualidade média white: 5.87790935075541\n"
     ]
    }
   ],
   "source": [
    "# Realiza os cálculos das médias\n",
    "mean_all = d4[:,quality_index].mean()\n",
    "mean_red = d4[ d4[:,tipo]==1, quality_index ].mean()\n",
    "mean_white = d4[ d4[:,tipo]==2, quality_index ].mean()\n",
    "\n",
    "# Cria vetor de médias\n",
    "means = np.array([mean_all, mean_red, mean_white], ndmin=2)\n",
    "\n",
    "# Exibe as médias calculadas\n",
    "print(\"Qualidade média geral:\" , mean_all)\n",
    "print(\"Qualidade média red:\" , mean_red)\n",
    "print(\"Qualidade média white:\" , mean_white)"
   ]
  },
  {
   "cell_type": "code",
   "execution_count": 184,
   "metadata": {},
   "outputs": [],
   "source": [
    "# Salva o arquivo com as médias calculadas\n",
    "header_mean = \"geral,tinto,branco\"\n",
    "np.savetxt('medias.txt', means, header=header_mean, delimiter=\",\")"
   ]
  }
 ],
 "metadata": {
  "kernelspec": {
   "display_name": "Python [conda env:teo-env]",
   "language": "python",
   "name": "conda-env-teo-env-py"
  },
  "language_info": {
   "codemirror_mode": {
    "name": "ipython",
    "version": 3
   },
   "file_extension": ".py",
   "mimetype": "text/x-python",
   "name": "python",
   "nbconvert_exporter": "python",
   "pygments_lexer": "ipython3",
   "version": "3.6.5"
  }
 },
 "nbformat": 4,
 "nbformat_minor": 2
}
