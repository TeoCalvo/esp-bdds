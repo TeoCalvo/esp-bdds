{
 "cells": [
  {
   "cell_type": "code",
   "execution_count": 11,
   "metadata": {},
   "outputs": [],
   "source": [
    "import pandas as pd\n",
    "import numpy as np\n",
    "import scipy.stats as stats\n",
    "import scipy as sp\n",
    "\n",
    "sigma = 5"
   ]
  },
  {
   "cell_type": "code",
   "execution_count": 104,
   "metadata": {},
   "outputs": [],
   "source": [
    "def my_norm(mu, sigma, values):\n",
    "    return (-1) * np.sum( np.log( stats.norm.pdf(values, mu, sigma) ) )"
   ]
  },
  {
   "cell_type": "code",
   "execution_count": 105,
   "metadata": {},
   "outputs": [
    {
     "data": {
      "text/plain": [
       "      fun: 11.225129336916524\n",
       " hess_inv: array([[8.3333355]])\n",
       "      jac: array([1.1920929e-07])\n",
       "  message: 'Optimization terminated successfully.'\n",
       "     nfev: 15\n",
       "      nit: 3\n",
       "     njev: 5\n",
       "   status: 0\n",
       "  success: True\n",
       "        x: array([29.00000184])"
      ]
     },
     "execution_count": 105,
     "metadata": {},
     "output_type": "execute_result"
    }
   ],
   "source": [
    "values = [20,28,39]\n",
    "sp.optimize.minimize(my_norm, 10, args=(sigma, values))"
   ]
  },
  {
   "cell_type": "code",
   "execution_count": 32,
   "metadata": {},
   "outputs": [],
   "source": [
    "def fun1( mu, sigma, value ):\n",
    "    return stats.norm.cdf(value, mu, sigma )\n",
    "\n",
    "def fun2(mu, sigma, values):\n",
    "    return (stats.norm.cdf(values[-1], mu, sigma ) - stats.norm.cdf(values[0], mu, sigma ) )\n",
    "\n",
    "def fun3(mu, sigma, value):\n",
    "    return (1 - stats.norm.cdf(value, mu, sigma ))\n",
    "\n",
    "def my_norm_inter(mu, sigma, values):\n",
    "    # 29.50\n",
    "    return (-1) * fun1(mu, sigma, values[0]) * fun2(mu, sigma, values[1]) * fun3(mu, sigma, values[-1])"
   ]
  },
  {
   "cell_type": "code",
   "execution_count": 33,
   "metadata": {},
   "outputs": [
    {
     "data": {
      "text/plain": [
       "      fun: -0.0015106868008836962\n",
       " hess_inv: array([[14321.52672753]])\n",
       "      jac: array([3.98460543e-07])\n",
       "  message: 'Optimization terminated successfully.'\n",
       "     nfev: 33\n",
       "      nit: 2\n",
       "     njev: 11\n",
       "   status: 0\n",
       "  success: True\n",
       "        x: array([29.50691882])"
      ]
     },
     "execution_count": 33,
     "metadata": {},
     "output_type": "execute_result"
    }
   ],
   "source": [
    "sp.optimize.minimize( my_norm_inter, 25, args=(sigma, [22,[25,32], 38] ) )"
   ]
  }
 ],
 "metadata": {
  "kernelspec": {
   "display_name": "Python 3",
   "language": "python",
   "name": "python3"
  },
  "language_info": {
   "codemirror_mode": {
    "name": "ipython",
    "version": 3
   },
   "file_extension": ".py",
   "mimetype": "text/x-python",
   "name": "python",
   "nbconvert_exporter": "python",
   "pygments_lexer": "ipython3",
   "version": "3.6.4"
  }
 },
 "nbformat": 4,
 "nbformat_minor": 2
}
