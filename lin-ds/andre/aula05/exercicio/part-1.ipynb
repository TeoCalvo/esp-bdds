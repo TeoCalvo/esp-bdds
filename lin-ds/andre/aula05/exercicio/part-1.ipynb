{
 "cells": [
  {
   "cell_type": "code",
   "execution_count": 58,
   "metadata": {},
   "outputs": [],
   "source": [
    "import numpy as np\n",
    "import array"
   ]
  },
  {
   "cell_type": "code",
   "execution_count": 74,
   "metadata": {},
   "outputs": [],
   "source": [
    "a1 = array.array( 'i', [1,2,3,4,21,3])\n",
    "a2 = array.array( 'f', [10,20,30,40,210,30])\n",
    "\n",
    "a4 = [1,2,3,4,21,3,10,20,30,40,210,30] "
   ]
  },
  {
   "cell_type": "code",
   "execution_count": 60,
   "metadata": {},
   "outputs": [],
   "source": [
    "a3 = my_array('u', ['a','b', 'c'])"
   ]
  },
  {
   "cell_type": "code",
   "execution_count": 81,
   "metadata": {},
   "outputs": [
    {
     "data": {
      "text/plain": [
       "array([[  1,   2,   3,   4,  21,   3],\n",
       "       [ 10,  20,  30,  40, 210,  30]])"
      ]
     },
     "execution_count": 81,
     "metadata": {},
     "output_type": "execute_result"
    }
   ],
   "source": [
    "np.array( a4).reshape([2,6])"
   ]
  },
  {
   "cell_type": "code",
   "execution_count": 88,
   "metadata": {},
   "outputs": [
    {
     "data": {
      "text/plain": [
       "8"
      ]
     },
     "execution_count": 88,
     "metadata": {},
     "output_type": "execute_result"
    }
   ],
   "source": [
    "v1.itemsize"
   ]
  },
  {
   "cell_type": "code",
   "execution_count": 99,
   "metadata": {},
   "outputs": [],
   "source": [
    "data = np.linspace(0,100,1000).reshape((100,10))"
   ]
  },
  {
   "cell_type": "code",
   "execution_count": 108,
   "metadata": {},
   "outputs": [
    {
     "data": {
      "text/plain": [
       "dtype('float64')"
      ]
     },
     "execution_count": 108,
     "metadata": {},
     "output_type": "execute_result"
    }
   ],
   "source": [
    "data.dtype"
   ]
  },
  {
   "cell_type": "code",
   "execution_count": 105,
   "metadata": {},
   "outputs": [],
   "source": [
    "np.savetxt( \"saida.txt\" ,data, delimiter=\";\")\n",
    "data_2 = np.loadtxt( \"saida.txt\", delimiter=\";\" )"
   ]
  },
  {
   "cell_type": "code",
   "execution_count": 112,
   "metadata": {},
   "outputs": [
    {
     "data": {
      "text/plain": [
       "array([[0.       , 0.1001001, 0.2002002, 0.3003003, 0.4004004, 0.5005005,\n",
       "        0.6006006, 0.7007007, 0.8008008, 0.9009009],\n",
       "       [1.001001 , 1.1011011, 1.2012012, 1.3013013, 1.4014014, 1.5015015,\n",
       "        1.6016016, 1.7017017, 1.8018018, 1.9019019]])"
      ]
     },
     "execution_count": 112,
     "metadata": {},
     "output_type": "execute_result"
    }
   ],
   "source": [
    "data[:2]"
   ]
  },
  {
   "cell_type": "code",
   "execution_count": 113,
   "metadata": {},
   "outputs": [
    {
     "data": {
      "text/plain": [
       "array([[0.       , 0.1001001, 0.2002002, 0.3003003, 0.4004004, 0.5005005,\n",
       "        0.6006006, 0.7007007, 0.8008008, 0.9009009],\n",
       "       [1.001001 , 1.1011011, 1.2012012, 1.3013013, 1.4014014, 1.5015015,\n",
       "        1.6016016, 1.7017017, 1.8018018, 1.9019019]])"
      ]
     },
     "execution_count": 113,
     "metadata": {},
     "output_type": "execute_result"
    }
   ],
   "source": [
    "data_2[:2]"
   ]
  }
 ],
 "metadata": {
  "kernelspec": {
   "display_name": "Python [conda env:teo-env]",
   "language": "python",
   "name": "conda-env-teo-env-py"
  },
  "language_info": {
   "codemirror_mode": {
    "name": "ipython",
    "version": 3
   },
   "file_extension": ".py",
   "mimetype": "text/x-python",
   "name": "python",
   "nbconvert_exporter": "python",
   "pygments_lexer": "ipython3",
   "version": "3.6.5"
  }
 },
 "nbformat": 4,
 "nbformat_minor": 2
}
