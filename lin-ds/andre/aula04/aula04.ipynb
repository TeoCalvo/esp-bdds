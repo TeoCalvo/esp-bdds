{
 "cells": [
  {
   "cell_type": "code",
   "execution_count": 164,
   "metadata": {},
   "outputs": [],
   "source": [
    "import math\n",
    "\n",
    "def fatorial(n):\n",
    "    '''Funcao para calcular o fatorial de um número \"n\".'''\n",
    "    if n == 0:\n",
    "        return 1\n",
    "    else:\n",
    "        return n * fatorial(n-1)\n",
    "\n",
    "def taylor(x,k):\n",
    "    '''k-ésimo fator da série de taylor para o valor \"x\"'''\n",
    "    return ((-1)**k)*(x**(1+2*k)) / math.factorial(1+2*k)\n",
    "  \n",
    "def n_taylor(x, n=50, p=0.0000000000000000000000000000000000001):\n",
    "    '''Cálcula a série de taylor até atingir numero maximo de itertação ou precisão mínima'''\n",
    "    res = [0]\n",
    "    for i in range(n):\n",
    "        res.append( taylor(x,i) )\n",
    "        print(res[-1])\n",
    "        if math.fabs(res[-2] - res[-1]) < p:\n",
    "            break\n",
    "    return sum(res)\n",
    "\n",
    "def degree_to_rad(degree):\n",
    "    '''Conversao de graus para raiano'''\n",
    "    return degree * math.pi / 180"
   ]
  },
  {
   "cell_type": "code",
   "execution_count": 168,
   "metadata": {},
   "outputs": [
    {
     "name": "stdout",
     "output_type": "stream",
     "text": [
      "Entre com um ângulo em graus: 30\n",
      "Entre com a precisao0.0000000000000000000000001\n",
      "0.5235987755982988\n",
      "-0.02392459620393504\n",
      "0.0003279531944286708\n",
      "-2.1407197692357955e-06\n",
      "8.151256657387576e-09\n",
      "-2.031557539903064e-11\n",
      "3.5702758612702185e-14\n",
      "-4.6610066605152965e-17\n",
      "4.697946471622608e-20\n",
      "-3.765990348636185e-23\n",
      "2.4582562777354316e-26\n",
      "-1.3319069487122942e-29\n"
     ]
    },
    {
     "data": {
      "text/plain": [
       "0.49999999999999994"
      ]
     },
     "execution_count": 168,
     "metadata": {},
     "output_type": "execute_result"
    }
   ],
   "source": [
    "graus = float( input(\"Entre com um ângulo em graus: \") )\n",
    "precisao = float( input(\"Entre com a precisao\") )\n",
    "rad = degree_to_rad(graus)\n",
    "n_taylor( x=rad,p=precisao )"
   ]
  },
  {
   "cell_type": "code",
   "execution_count": 222,
   "metadata": {},
   "outputs": [],
   "source": [
    "def fibonacci_n(n):\n",
    "    a, b = 0, 1\n",
    "    for i in range(n):\n",
    "        a , b = a + b,  a\n",
    "    return a"
   ]
  },
  {
   "cell_type": "code",
   "execution_count": 229,
   "metadata": {},
   "outputs": [
    {
     "data": {
      "text/plain": [
       "5"
      ]
     },
     "execution_count": 229,
     "metadata": {},
     "output_type": "execute_result"
    }
   ],
   "source": [
    "fibonacci_n(5)"
   ]
  },
  {
   "cell_type": "code",
   "execution_count": 257,
   "metadata": {},
   "outputs": [
    {
     "name": "stdout",
     "output_type": "stream",
     "text": [
      "0\n",
      "1\n",
      "1\n",
      "2\n",
      "3\n",
      "5\n"
     ]
    },
    {
     "data": {
      "text/plain": [
       "5"
      ]
     },
     "execution_count": 257,
     "metadata": {},
     "output_type": "execute_result"
    }
   ],
   "source": [
    "def fibonacci_v(v):\n",
    "    a, b  = 0, 1\n",
    "    b = 1\n",
    "    while a < v:\n",
    "        a , b = a + b,  a\n",
    "        print(b)\n",
    "    return a if a <= v else b\n",
    "\n",
    "fibonacci_v(7)"
   ]
  },
  {
   "cell_type": "code",
   "execution_count": 263,
   "metadata": {},
   "outputs": [],
   "source": [
    "nome = [\"teodoro\" , \"lara\", \"natalia\", \"rafa\" ]\n",
    "idade  = 25"
   ]
  },
  {
   "cell_type": "code",
   "execution_count": 272,
   "metadata": {},
   "outputs": [],
   "source": [
    "d4 = [25, 5, 2018, \"AULA4\"]\n",
    "d5 = [1, 6, 2018, \"AULA5\"]\n",
    "d6 = [8, 6, 2018, \"AULA6\"]\n",
    "\n",
    "d = [d4,d5,d6]"
   ]
  },
  {
   "cell_type": "code",
   "execution_count": 279,
   "metadata": {},
   "outputs": [],
   "source": [
    "nome = \"teodoro\""
   ]
  },
  {
   "cell_type": "code",
   "execution_count": 283,
   "metadata": {},
   "outputs": [
    {
     "data": {
      "text/plain": [
       "'teo calvo'"
      ]
     },
     "execution_count": 283,
     "metadata": {},
     "output_type": "execute_result"
    }
   ],
   "source": [
    "\"teo \" + \"calvo\""
   ]
  },
  {
   "cell_type": "code",
   "execution_count": 284,
   "metadata": {},
   "outputs": [
    {
     "data": {
      "text/plain": [
       "'                                                                         teodoro'"
      ]
     },
     "execution_count": 284,
     "metadata": {},
     "output_type": "execute_result"
    }
   ],
   "source": [
    "n = len(nome)\n",
    "\" \" * (80 - n) + nome"
   ]
  },
  {
   "cell_type": "code",
   "execution_count": 285,
   "metadata": {},
   "outputs": [
    {
     "name": "stdout",
     "output_type": "stream",
     "text": [
      "                                                                             teo\n",
      "                                                                            lara\n",
      "                                                                         natalia\n",
      "                                                                         rafaela\n",
      "                                                                       seeeeloko\n"
     ]
    }
   ],
   "source": [
    "def justificativaD(x):\n",
    "    n = len(x)\n",
    "    txt = \" \" * (80-n) + x\n",
    "    print(txt)\n",
    "\n",
    "\n",
    "nome = [\"teo\", \"lara\", \"natalia\" , \"rafaela\", \"seeeeloko\"]\n",
    "\n",
    "for i in txt:\n",
    "    justificativaD(i)"
   ]
  },
  {
   "cell_type": "code",
   "execution_count": 262,
   "metadata": {},
   "outputs": [
    {
     "data": {
      "text/plain": [
       "['teodoro', 25]"
      ]
     },
     "execution_count": 262,
     "metadata": {},
     "output_type": "execute_result"
    }
   ],
   "source": [
    "teo"
   ]
  }
 ],
 "metadata": {
  "kernelspec": {
   "display_name": "Python [conda env:teo-env]",
   "language": "python",
   "name": "conda-env-teo-env-py"
  },
  "language_info": {
   "codemirror_mode": {
    "name": "ipython",
    "version": 3
   },
   "file_extension": ".py",
   "mimetype": "text/x-python",
   "name": "python",
   "nbconvert_exporter": "python",
   "pygments_lexer": "ipython3",
   "version": "3.6.4"
  }
 },
 "nbformat": 4,
 "nbformat_minor": 2
}
